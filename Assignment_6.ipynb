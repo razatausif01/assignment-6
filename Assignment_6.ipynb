{
  "cells": [
    {
      "cell_type": "markdown",
      "source": [
        "1.\tWrite a Python Program to Display Fibonacci Sequence Using Recursion?\n",
        "2.\tWrite a Python Program to Find Factorial of Number Using Recursion?\n",
        "3.\tWrite a Python Program to calculate your Body Mass Index?\n",
        "4.\tWrite a Python Program to calculate the natural logarithm of any number?\n",
        "5.\tWrite a Python Program for cube sum of first n natural numbers?\n"
      ],
      "metadata": {
        "id": "fdH7DH7sPFX4"
      },
      "id": "fdH7DH7sPFX4"
    },
    {
      "cell_type": "markdown",
      "id": "8b278342",
      "metadata": {
        "id": "8b278342"
      },
      "source": [
        "## Python Program to Display Fibonacci Sequence Using Recursion?"
      ]
    },
    {
      "cell_type": "code",
      "execution_count": null,
      "id": "739eb88f",
      "metadata": {
        "id": "739eb88f",
        "outputId": "f60d8d71-d935-44c9-b7c3-f1b56762d142"
      },
      "outputs": [
        {
          "name": "stdout",
          "output_type": "stream",
          "text": [
            "Enter a number, N, N>=2 : 2\n",
            "[0, 1]\n"
          ]
        }
      ],
      "source": [
        "def fibonacci(n):\n",
        "    if n<=1:\n",
        "        return n\n",
        "    else:\n",
        "        return(fibonacci(n-1) + fibonacci(n-2))\n",
        "\n",
        "n = int(input('Enter a number, N, N>=2 : '))\n",
        "\n",
        "fibo_series = []\n",
        "\n",
        "for i in range(0,n):\n",
        "    fibo_series.append(fibonacci(i))\n",
        "\n",
        "print(fibo_series)"
      ]
    },
    {
      "cell_type": "markdown",
      "id": "30fb0a9f",
      "metadata": {
        "id": "30fb0a9f"
      },
      "source": [
        "## \tWrite a Pythbon Program to Find Factorial of Number Using Recursion?"
      ]
    },
    {
      "cell_type": "code",
      "execution_count": 1,
      "id": "ccff6c04",
      "metadata": {
        "colab": {
          "base_uri": "https://localhost:8080/"
        },
        "id": "ccff6c04",
        "outputId": "baec7b41-75f6-4182-d2e8-627c206f18d9"
      },
      "outputs": [
        {
          "output_type": "stream",
          "name": "stdout",
          "text": [
            "factorial of 5 is  120\n"
          ]
        }
      ],
      "source": [
        "def factorial(x):\n",
        "    if x==1:\n",
        "        return 1\n",
        "    else:\n",
        "        return x*factorial(x-1)\n",
        "\n",
        "f=factorial(5)\n",
        "print (\"factorial of 5 is \",f)\n",
        "    "
      ]
    },
    {
      "cell_type": "markdown",
      "id": "2cd619cc",
      "metadata": {
        "id": "2cd619cc"
      },
      "source": [
        "## Write a Python Program to calculate your Body Mass Index?"
      ]
    },
    {
      "cell_type": "code",
      "execution_count": 2,
      "id": "4f379ae4",
      "metadata": {
        "colab": {
          "base_uri": "https://localhost:8080/"
        },
        "id": "4f379ae4",
        "outputId": "d1ab49f0-0d3f-4d34-e300-a1f18e22d5b8"
      },
      "outputs": [
        {
          "output_type": "stream",
          "name": "stdout",
          "text": [
            "The BMI is 21.64532402096181 so Healthy\n"
          ]
        }
      ],
      "source": [
        "#Python program to illustrate\n",
        "# how to calculate BMI\n",
        "def BMI(height, weight):\n",
        "    bmi = weight/(height**2)\n",
        "    return bmi\n",
        " \n",
        "# Driver code\n",
        "height = 1.79832\n",
        "weight = 70\n",
        " \n",
        "# calling the BMI function\n",
        "bmi = BMI(height, weight)\n",
        "print(\"The BMI is\", format(bmi), \"so \", end='')\n",
        " \n",
        "# Conditions to find out BMI category\n",
        "if (bmi < 18.5):\n",
        "    print(\"underweight\")\n",
        " \n",
        "elif ( bmi >= 18.5 and bmi < 24.9):\n",
        "    print(\"Healthy\")\n",
        " \n",
        "elif ( bmi >= 24.9 and bmi < 30):\n",
        "    print(\"overweight\")\n",
        " \n",
        "elif ( bmi >=30):\n",
        "    print(\"Suffering from Obesity\")"
      ]
    },
    {
      "cell_type": "markdown",
      "source": [
        "##Write a Python Program for cube sum of first n natural numbers?"
      ],
      "metadata": {
        "id": "KBm_1ObxSMF-"
      },
      "id": "KBm_1ObxSMF-"
    },
    {
      "cell_type": "code",
      "source": [
        "def sumOfSeries(n):\n",
        "   sum = 0\n",
        "   for i in range(1, n+1):\n",
        "      sum +=i*i*i\n",
        "   return sum\n",
        "# Driver Function\n",
        "n = 3\n",
        "print(sumOfSeries(n))"
      ],
      "metadata": {
        "colab": {
          "base_uri": "https://localhost:8080/"
        },
        "id": "H-eTCNR4SNqc",
        "outputId": "9958f3cd-1049-4668-f4dc-e872caef0b0e"
      },
      "id": "H-eTCNR4SNqc",
      "execution_count": 3,
      "outputs": [
        {
          "output_type": "stream",
          "name": "stdout",
          "text": [
            "36\n"
          ]
        }
      ]
    },
    {
      "cell_type": "code",
      "source": [
        ""
      ],
      "metadata": {
        "id": "IIDVKoAQSdCk"
      },
      "id": "IIDVKoAQSdCk",
      "execution_count": null,
      "outputs": []
    }
  ],
  "metadata": {
    "kernelspec": {
      "display_name": "Python 3 (ipykernel)",
      "language": "python",
      "name": "python3"
    },
    "language_info": {
      "codemirror_mode": {
        "name": "ipython",
        "version": 3
      },
      "file_extension": ".py",
      "mimetype": "text/x-python",
      "name": "python",
      "nbconvert_exporter": "python",
      "pygments_lexer": "ipython3",
      "version": "3.9.7"
    },
    "colab": {
      "name": "Assignment_6.ipynb",
      "provenance": [],
      "collapsed_sections": []
    }
  },
  "nbformat": 4,
  "nbformat_minor": 5
}